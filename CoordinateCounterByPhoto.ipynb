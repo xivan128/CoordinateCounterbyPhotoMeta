{
  "nbformat": 4,
  "nbformat_minor": 0,
  "metadata": {
    "colab": {
      "name": "CoordinateCounterByPhoto.ipynb",
      "version": "0.3.2",
      "provenance": [],
      "collapsed_sections": []
    },
    "kernelspec": {
      "name": "python3",
      "display_name": "Python 3"
    }
  },
  "cells": [
    {
      "cell_type": "code",
      "metadata": {
        "id": "d_R8xHQtmXtt",
        "colab_type": "code",
        "outputId": "8e16c16f-80f1-4195-be64-7b2c19a21ab2",
        "colab": {
          "base_uri": "https://localhost:8080/",
          "height": 90
        }
      },
      "source": [
        "import math\n",
        "\n",
        "def DistanceCounterInCm (CameraHeightRelatingToPhoneBottom=10, AngleToEarth=45, PhoneHeight=150):\n",
        "    AngleToEarth=math.radians(AngleToEarth)\n",
        "    return math.tan(AngleToEarth)*(PhoneHeight + CameraHeightRelatingToPhoneBottom*math.sin(AngleToEarth))\n",
        "print(\"Distance in cm is \", DistanceCounterInCm())\n",
        "\n",
        "# Here we just distance based on phone and its slope to Earth\n",
        "def Latitude_Longitudecounter (DistanceCm=200, PlanetRadiusMm=6.4):\n",
        "  return DistanceCm/PlanetRadiusMm/math.pi\n",
        "\n",
        "#Count variable which is an angular coefficient and its distriution between Long/lat depends only on azimuth \n",
        "#and we should remember that Earth's radius is in Mm which 10ˆ6m or 10ˆ8 cm\n",
        "print(Latitude_Longitudecounter())\n",
        "\n",
        "def NewLatitudeCounter(Azimuth=45, Latitude=0.0, LongLat=10.0):\n",
        "    Azimuth=math.radians(Azimuth)\n",
        "    return Latitude + LongLat*math.cos(Azimuth)/10\n",
        "print (\"New Lat is\",NewLatitudeCounter())\n",
        "\n",
        " #Counts Latitude in degrees to the minus seventh power 10ˆ(-7) as GoogleMaps provides 7 digits after point in coords\n",
        " #So if the difference is less 0.5 in both Longtitude and Latitude GMaps can count the points to be the same one\n",
        "\n",
        "def NewLongtitudeCounter(Azimuth=45, Longtitude=0.0, LongLat=10.0 ):\n",
        "    Azimuth=math.radians(Azimuth)\n",
        "    return Longtitude + LongLat*math.sin(Azimuth)/10\n",
        "print (\"New Long is\", NewLongtitudeCounter())\n",
        "\n",
        "#Counts Longtitude in degrees to the minus seventh power 10ˆ(-7) as GoogleMaps provides 7 digits after point in coords\n",
        "#So if the difference is less 0.5 in both Longtitude and Latitude GMaps can count the points to be the same one\n",
        "\n",
        "# Explanational pics are attached: Azimuth is the vertical angle to the pictured alpha, so they are equal\n",
        "\n",
        "\n",
        "# CameraLat - latitude of camea \n",
        "# CameraLong - longitude of camera\n",
        "# CameraAlt - altitude of camera, not sure if it matters -Yes, it matters a bit. It's the altitude above the phone's bottom\n",
        "# CameraElevation - addition to altitude - vertical distance from earth surface to phone, depends on a user height, we could take average\n",
        "# Azimuth - azimuth where is camera is pointing (in degrees)\n",
        "# Tilt - camera tilt (slope i guess in your term) - Yes in degrees\n",
        "# \n",
        "# return PictureLat, PictureLong\n",
        "\n",
        "\n"
      ],
      "execution_count": 0,
      "outputs": [
        {
          "output_type": "stream",
          "text": [
            "Distance in cm is  157.07106781186545\n",
            "9.94718394324346\n",
            "New Lat is 0.7071067811865476\n",
            "New Long is 0.7071067811865475\n"
          ],
          "name": "stdout"
        }
      ]
    },
    {
      "cell_type": "code",
      "metadata": {
        "id": "D4jhdpQFMuyr",
        "colab_type": "code",
        "colab": {}
      },
      "source": [
        "def ReCalculateCoordinates(CameraLat, CameraLong, CameralAlt, CameraElevation, Azimuth, Tilt=45):\n",
        "    # do all necessary calculations here and return PictureLat and PictureLong of an object on picture taken by camera \n",
        "    Dist=DistanceCounterInCm (CameraAlt, tilt, CameraElevation)\n",
        "    Ll=Latitude_Longitudecounter(Dist, PlanetRadiusMm=6.4)\n",
        "    PictureLat=NewLatitudeCounter(Azimuth, CameraLat, Ll)\n",
        "    PictureLong=NewLongtitudeCounter(Azimuth, CameraLong, Ll)\n",
        "    return PictureLat, PictureLong"
      ],
      "execution_count": 0,
      "outputs": []
    }
  ]
}